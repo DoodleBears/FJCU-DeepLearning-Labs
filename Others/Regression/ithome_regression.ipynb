{
 "cells": [
  {
   "cell_type": "code",
   "execution_count": 1,
   "metadata": {},
   "outputs": [],
   "source": [
    "# source: https://ithelp.ithome.com.tw/articles/10268480\n",
    "import numpy as np"
   ]
  },
  {
   "cell_type": "code",
   "execution_count": 2,
   "metadata": {},
   "outputs": [],
   "source": [
    "\n",
    "# f = w * x\n",
    "# f = 2 * x, we set w as 2\n",
    "x = np.array([1, 2, 3, 4, 5, 6], dtype=np.float32)\n",
    "y = np.array([2, 4, 6, 8, 10, 12], dtype=np.float32)\n",
    "\n",
    "# init weight\n",
    "w = 0.0"
   ]
  },
  {
   "cell_type": "code",
   "execution_count": 3,
   "metadata": {},
   "outputs": [],
   "source": [
    "# model prediction\n",
    "# 這邊之後會解釋為啥叫做 forward，可以先視為計算函數而已\n",
    "def forward(x):\n",
    "    \n",
    "    return w * x\n",
    "    \n",
    "# set up loss function as mean square error\n",
    "def loss(y, y_predicted):\n",
    "\n",
    "    return ((y_predicted-y) ** 2).mean()\n",
    "    \n",
    "# gradient\n",
    "def gradient(x, y, y_predicted):\n",
    "\n",
    "    return np.dot(2*x, y_predicted-y).mean()"
   ]
  },
  {
   "cell_type": "code",
   "execution_count": 4,
   "metadata": {},
   "outputs": [
    {
     "name": "stdout",
     "output_type": "stream",
     "text": [
      "Prediction before training: f(5) =  0.000\n",
      "epoch 1: w = 3.640, loss = 60.66666794\n",
      "epoch 2: w = 0.655, loss = 40.79226685\n",
      "epoch 3: w = 3.103, loss = 27.42873383\n",
      "epoch 4: w = 1.096, loss = 18.44307899\n",
      "epoch 5: w = 2.741, loss = 12.40112972\n",
      "epoch 6: w = 1.392, loss = 8.33852386\n",
      "epoch 7: w = 2.499, loss = 5.60682440\n",
      "epoch 8: w = 1.591, loss = 3.77002645\n",
      "epoch 9: w = 2.335, loss = 2.53496480\n",
      "epoch 10: w = 1.725, loss = 1.70451009\n",
      "Prediction after training: f(5) =  8.626\n"
     ]
    }
   ],
   "source": [
    "print(f'Prediction before training: f(5) = {forward(5): .3f}')\n",
    "\n",
    "# Training\n",
    "learning_rate = 0.01\n",
    "n_iters = 10\n",
    "\n",
    "for epoch in range(n_iters):\n",
    "    # perdiction = forward pass\n",
    "    y_pred = forward(x)\n",
    "\n",
    "    # loss\n",
    "    l = loss(y, y_pred)\n",
    "\n",
    "    # we know that gradient descent is where \n",
    "    # calculate gradient and update parameters\n",
    "    \n",
    "    # calculation of gradients\n",
    "    dw = gradient(x, y, y_pred)\n",
    "\n",
    "    # update weights\n",
    "    w -= learning_rate * dw\n",
    "\n",
    "    if epoch % 1 == 0:\n",
    "        print(f'epoch {epoch + 1}: w = {w:.3f}, loss = {l:.8f}')\n",
    "\n",
    "print(f'Prediction after training: f(5) = {forward(5): .3f}')"
   ]
  }
 ],
 "metadata": {
  "interpreter": {
   "hash": "c6e4e9f98eb68ad3b7c296f83d20e6de614cb42e90992a65aa266555a3137d0d"
  },
  "kernelspec": {
   "display_name": "Python 3.9.6 64-bit ('base': conda)",
   "language": "python",
   "name": "python3"
  },
  "language_info": {
   "codemirror_mode": {
    "name": "ipython",
    "version": 3
   },
   "file_extension": ".py",
   "mimetype": "text/x-python",
   "name": "python",
   "nbconvert_exporter": "python",
   "pygments_lexer": "ipython3",
   "version": "3.9.6"
  },
  "orig_nbformat": 4
 },
 "nbformat": 4,
 "nbformat_minor": 2
}
