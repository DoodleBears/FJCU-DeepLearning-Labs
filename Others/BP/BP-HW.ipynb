{
 "cells": [
  {
   "cell_type": "code",
   "execution_count": 10,
   "metadata": {},
   "outputs": [],
   "source": [
    "import numpy as np\n",
    "np.random.seed(1)"
   ]
  },
  {
   "cell_type": "code",
   "execution_count": 11,
   "metadata": {},
   "outputs": [],
   "source": [
    "# sigmoid function\n",
    "# derivation 是否求导，如果 deriv 是 True 则回传求导后的值\n",
    "def nonlin(x,deriv=False):\n",
    "    if(deriv==True):\n",
    "        return x*(1-x)\n",
    "    return 1/(1+np.exp(-x))"
   ]
  },
  {
   "cell_type": "code",
   "execution_count": 12,
   "metadata": {},
   "outputs": [
    {
     "name": "stdout",
     "output_type": "stream",
     "text": [
      "[[ 1.]\n",
      " [-1.]]\n",
      "[[0.]\n",
      " [1.]]\n"
     ]
    }
   ],
   "source": [
    "# X 的 initial value\n",
    "X = np.array([  [1.0],\n",
    "                [-1.0] ])\n",
    "# y 的 initial value\n",
    "y = np.array([[0.0, 1.0]]).T\n",
    "\n",
    "print(X)\n",
    "print(y)"
   ]
  },
  {
   "cell_type": "code",
   "execution_count": 13,
   "metadata": {},
   "outputs": [
    {
     "name": "stdout",
     "output_type": "stream",
     "text": [
      "w1:\n",
      " [[ 0.1 -0.3]\n",
      " [-0.2  0.1]\n",
      " [ 0.2 -0.1]]\n",
      "b1:\n",
      " [[ 0. ]\n",
      " [ 0.2]\n",
      " [-0.1]]\n"
     ]
    }
   ],
   "source": [
    "w1 = np.array([ [0.1, -0.3],\n",
    "         [-0.2, 0.1],\n",
    "         [0.2, -0.1] ])\n",
    "b1 = np.array([[0.0, 0.2, -0.1]]).T\n",
    "print('w1:\\n', w1)\n",
    "print('b1:\\n', b1)"
   ]
  },
  {
   "cell_type": "code",
   "execution_count": 14,
   "metadata": {},
   "outputs": [
    {
     "name": "stdout",
     "output_type": "stream",
     "text": [
      "w2:\n",
      " [[ 0.1 -0.1  0.2]\n",
      " [ 0.3  0.  -0.1]]\n",
      "b2:\n",
      " [[ 0.1]\n",
      " [-0.1]]\n"
     ]
    }
   ],
   "source": [
    "w2 = np.array([ [0.1, -0.1, 0.2],\n",
    "         [0.3, 0.0, -0.1]])\n",
    "b2 = np.array([[0.1, -0.1]]).T\n",
    "print('w2:\\n', w2)\n",
    "print('b2:\\n', b2)"
   ]
  },
  {
   "cell_type": "code",
   "execution_count": 15,
   "metadata": {},
   "outputs": [],
   "source": [
    "learning_rate = 0.3"
   ]
  },
  {
   "cell_type": "code",
   "execution_count": 16,
   "metadata": {},
   "outputs": [
    {
     "name": "stdout",
     "output_type": "stream",
     "text": [
      "a1\n",
      " [[0.6 ]\n",
      " [0.48]\n",
      " [0.55]]\n",
      "a2\n",
      " [[0.56]\n",
      " [0.51]]\n",
      "a2_error\n",
      " [[ 0.56]\n",
      " [-0.49]]\n",
      "-----\n",
      "nonlin(a1, True)\n",
      " [[0.24  ]\n",
      " [0.2496]\n",
      " [0.2475]]\n",
      "np.dot(w2.T, a2_error)\n",
      " [[-0.091]\n",
      " [-0.056]\n",
      " [ 0.161]]\n",
      "-----\n",
      "a1_error\n",
      " [[-0.02184  ]\n",
      " [-0.0139776]\n",
      " [ 0.0398475]]\n"
     ]
    }
   ],
   "source": [
    "for iter in range(1):\n",
    "    # forward propagation\n",
    "    a0 = X # layer 0 即 input 一般会写作 X (注意是大写), 相当于 a0\n",
    "    n1 = np.dot(w1, a0) + b1\n",
    "    a1 = nonlin(n1).round(2) # 第1层 hidden layer 的 input 是 第0层的 activation function 后的 output\n",
    "    print('a1\\n', a1)\n",
    "    n2 = np.dot(w2, a1) + b2\n",
    "    a2 = nonlin(n2).round(2) # 相当于 a2\n",
    "    print('a2\\n', a2)\n",
    "    a2_error = a2 - y\n",
    "    print('a2_error\\n', a2_error)\n",
    "\n",
    "    a1_error = np.dot(w2.T, a2_error) * nonlin(a1, True)\n",
    "    print('-----\\nnonlin(a1, True)\\n', nonlin(a1, True))\n",
    "    print('np.dot(w2.T, a2_error)\\n', np.dot(w2.T, a2_error))\n",
    "    print('-----\\na1_error\\n', a1_error)\n",
    "\n",
    "    # update weights\n",
    "    w2 -= learning_rate * a2_error * a1.T \n",
    "    b2 -= learning_rate * a2_error \n",
    "    w1 -= learning_rate * a1_error * a0.T  \n",
    "    b1 -= learning_rate * a1_error \n"
   ]
  },
  {
   "cell_type": "code",
   "execution_count": 17,
   "metadata": {},
   "outputs": [
    {
     "name": "stdout",
     "output_type": "stream",
     "text": [
      "----------------\n",
      "Output After Training:\n",
      "w1\n",
      " [[ 0.106552   -0.306552  ]\n",
      " [-0.19580672  0.09580672]\n",
      " [ 0.18804575 -0.08804575]]\n",
      "w2\n",
      " [[-0.0008  -0.18064  0.1076 ]\n",
      " [ 0.3882   0.07056 -0.01915]]\n",
      "b1\n",
      " [[ 0.006552  ]\n",
      " [ 0.20419328]\n",
      " [-0.11195425]]\n",
      "b2\n",
      " [[-0.068]\n",
      " [ 0.047]]\n"
     ]
    }
   ],
   "source": [
    "print (\"----------------\\nOutput After Training:\")\n",
    "print ('w1\\n', w1)\n",
    "print ('w2\\n', w2)\n",
    "print ('b1\\n', b1)\n",
    "print ('b2\\n', b2)"
   ]
  },
  {
   "cell_type": "code",
   "execution_count": 18,
   "metadata": {},
   "outputs": [
    {
     "name": "stdout",
     "output_type": "stream",
     "text": [
      "[[ 0.336   0.2688  0.308 ]\n",
      " [-0.294  -0.2352 -0.2695]]\n",
      "[[ 0.56]\n",
      " [-0.49]]\n",
      "[[-0.02184    0.02184  ]\n",
      " [-0.0139776  0.0139776]\n",
      " [ 0.0398475 -0.0398475]]\n",
      "[[-0.02184  ]\n",
      " [-0.0139776]\n",
      " [ 0.0398475]]\n"
     ]
    }
   ],
   "source": [
    "print( a2_error * a1.T)\n",
    "print( a2_error )\n",
    "print( a1_error * a0.T)\n",
    "print( a1_error )"
   ]
  }
 ],
 "metadata": {
  "interpreter": {
   "hash": "c6e4e9f98eb68ad3b7c296f83d20e6de614cb42e90992a65aa266555a3137d0d"
  },
  "kernelspec": {
   "display_name": "Python 3.9.6 64-bit ('base': conda)",
   "language": "python",
   "name": "python3"
  },
  "language_info": {
   "codemirror_mode": {
    "name": "ipython",
    "version": 3
   },
   "file_extension": ".py",
   "mimetype": "text/x-python",
   "name": "python",
   "nbconvert_exporter": "python",
   "pygments_lexer": "ipython3",
   "version": "3.9.6"
  },
  "orig_nbformat": 4
 },
 "nbformat": 4,
 "nbformat_minor": 2
}
